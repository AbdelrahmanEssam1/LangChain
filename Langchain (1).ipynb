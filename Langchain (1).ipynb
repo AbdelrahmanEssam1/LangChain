{
  "nbformat": 4,
  "nbformat_minor": 0,
  "metadata": {
    "colab": {
      "provenance": []
    },
    "kernelspec": {
      "name": "python3",
      "display_name": "Python 3"
    },
    "language_info": {
      "name": "python"
    }
  },
  "cells": [
    {
      "cell_type": "code",
      "execution_count": 1,
      "metadata": {
        "id": "IYePLDg5mdbn"
      },
      "outputs": [],
      "source": [
        "!pip install -q langchain==0.0.219 openai==0.27.8"
      ]
    },
    {
      "cell_type": "markdown",
      "source": [
        "**OpenAI**"
      ],
      "metadata": {
        "id": "7ArEsTQXnISg"
      }
    },
    {
      "cell_type": "code",
      "source": [
        "#bring your own api key"
      ],
      "metadata": {
        "id": "v1kflTmFy8ij"
      },
      "execution_count": null,
      "outputs": []
    },
    {
      "cell_type": "code",
      "source": [
        "from langchain.llms import OpenAI"
      ],
      "metadata": {
        "id": "wY3qBFJEnZPi"
      },
      "execution_count": 3,
      "outputs": []
    },
    {
      "cell_type": "code",
      "source": [
        "llm = OpenAI(openai_api_key= openai_api_key , model_name = \"text-davinci-003\")"
      ],
      "metadata": {
        "id": "9UXHknApnq3e"
      },
      "execution_count": 4,
      "outputs": []
    },
    {
      "cell_type": "code",
      "source": [
        "prompt = \"\"\"\n",
        "suggest 2 ways to lose my weight.\n",
        "\"\"\".strip()"
      ],
      "metadata": {
        "id": "mvS57AOnn0uz"
      },
      "execution_count": 5,
      "outputs": []
    },
    {
      "cell_type": "code",
      "source": [
        "print(llm(prompt))"
      ],
      "metadata": {
        "id": "lS4A7QEkoJi-"
      },
      "execution_count": null,
      "outputs": []
    },
    {
      "cell_type": "code",
      "source": [],
      "metadata": {
        "id": "YVI4279-oLhU"
      },
      "execution_count": null,
      "outputs": []
    }
  ]
}